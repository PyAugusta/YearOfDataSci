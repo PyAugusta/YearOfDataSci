{
 "cells": [
  {
   "cell_type": "markdown",
   "metadata": {},
   "source": [
    "# Capstone Excercise\n",
    "\n",
    "So far, we've learned some essential skills, including basic to advanced Python, creating plots with MatPlotLib, as well as using NumPy and Pandas to manipulate and analyze our data sets.\n",
    "\n",
    "Using what we've covered so far, see if you can solve the challenge below.\n",
    "\n",
    "I've included a hints file as well, so feel free to <code>import hints_201802 as hints</code> and check it out for help."
   ]
  },
  {
   "cell_type": "markdown",
   "metadata": {},
   "source": [
    "# Analyzing Web Traffic\n",
    "\n",
    "Located in the data folder, you will find an Apache Access Log. Apache, a popular web server software, creates a line in this type of log file for every connection made by a user. An entry in the log file might look something like this:\n",
    "\n",
    "<pre><code>\n",
    "91.7.124.76 - - [13/Jan/2016:23:17:48 +0100] \"GET /images/stories/slideshow/almhuette_raith_04.jpg HTTP/1.1\" 200 80637 \"http://www.almhuette-raith.at/\" \"Mozilla/5.0 (Windows NT 6.1; WOW64; rv:43.0) Gecko/20100101 Firefox/43.0\" \"-\"\n",
    "</code></pre>\n",
    "\n",
    "Here's a breakdown of this log entry:\n",
    "\n",
    "- **91.7.124.76** - The requesting host (the IP address of the user visiting the website\n",
    "- **13/Jan/2016:23:17:48 +0100** - The UTC time that the server received the request\n",
    "- **GET** - The type of HTTP request made to the server\n",
    "- **/images/stories/slideshow/almhuette_raith_04.jpg** - The file (in this case an image) that the user requested\n",
    "- **HTTP/1.1** - The HTTP version the server uses\n",
    "- **200** - The response code for the request (200 means OK)\n",
    "- **80637** - The size in bytes of the requested file\n",
    "- **http://www.almhuette-raith.at/** - The servers hostname (this may not always be there)\n",
    "- **Mozilla/5.0 (Windows NT 6.1; WOW64; rv:43.0) Gecko/20100101 Firefox/43.0** - The user agent string of the user's browser\n"
   ]
  },
  {
   "cell_type": "markdown",
   "metadata": {},
   "source": [
    "The first part of this challenge will be converting this file into a pandas DataFrame.\n",
    "\n",
    "The relative filepath is **data/access_log.log**.\n",
    "\n",
    "See if you can do it. Use the following column names:\n",
    "\n",
    "- SRC_HOST\n",
    "- UTC_TIME\n",
    "- HTTP_TYPE\n",
    "- HTTP_PATH\n",
    "- HTTP_VERSION\n",
    "- HTTP_RESPONSE\n",
    "- FILE_SIZE\n",
    "- DST_HOST\n",
    "- BROWSER\n",
    "\n",
    "You should also try to parse the dates into the appropriate data types."
   ]
  },
  {
   "cell_type": "code",
   "execution_count": null,
   "metadata": {},
   "outputs": [],
   "source": [
    "import hints_201802 as hints"
   ]
  },
  {
   "cell_type": "code",
   "execution_count": null,
   "metadata": {},
   "outputs": [],
   "source": [
    "# Your code here\n",
    "# If you need help, hints.hint1() will show you how I did it"
   ]
  },
  {
   "cell_type": "markdown",
   "metadata": {},
   "source": [
    "If you've done everything as expected, the result of the info() method should look like this:\n",
    "<pre><code>\n",
    "apache_df.info()\n",
    "<class 'pandas.core.frame.DataFrame'>\n",
    "RangeIndex: 15759 entries, 0 to 15758\n",
    "Data columns (total 9 columns):\n",
    "SRC_HOST         15759 non-null object\n",
    "UTC_TIME         15759 non-null datetime64[ns]\n",
    "HTTP_TYPE        15759 non-null object\n",
    "HTTP_PATH        15759 non-null object\n",
    "HTTP_VERSION     15759 non-null object\n",
    "HTTP_RESPONSE    15759 non-null object\n",
    "FILE_SIZE        15759 non-null object\n",
    "DST_HOST         15759 non-null object\n",
    "BROWSER          15759 non-null object\n",
    "dtypes: datetime64[ns](1), object(8)\n",
    "memory usage: 1.1+ MB\n",
    "</code></pre>\n",
    "\n",
    "See if you can add columns for the day of the week, and hour that each connection occured"
   ]
  },
  {
   "cell_type": "code",
   "execution_count": null,
   "metadata": {},
   "outputs": [],
   "source": [
    "# Your code here\n",
    "# hint.hint2()"
   ]
  },
  {
   "cell_type": "markdown",
   "metadata": {},
   "source": [
    "Now that we've done a little wrangling with out data, let's see if we can find out which user's are visiting most frequently\n",
    "\n",
    "Try to group the DataFrame by the SRC_HOST, then create a new DataFrame that will hold a count of how many times each visited the site, as well as when their first and last vists were."
   ]
  },
  {
   "cell_type": "code",
   "execution_count": null,
   "metadata": {},
   "outputs": [],
   "source": [
    "# Your code here\n",
    "# hint.hint3()"
   ]
  },
  {
   "cell_type": "markdown",
   "metadata": {},
   "source": [
    "Now, find the source IP addresses that hit the site the most - no hints for this one ;-)"
   ]
  },
  {
   "cell_type": "code",
   "execution_count": null,
   "metadata": {},
   "outputs": [],
   "source": [
    "# Your code here"
   ]
  },
  {
   "cell_type": "markdown",
   "metadata": {},
   "source": [
    "## Conclusion\n",
    "\n",
    "Now, while there wasn't much \"data science\" going on during this Capstone, I wanted to go through it to drive home some of the techniques for working with data using Pandas. \n",
    "\n",
    "We didn't touch on plotting, or any fancy statistical analysis, but that's where I'll leave it up to yall for now. What else can you do with this data? Are there any services out there that could be used to enrich it (IP locations, User Agent string parsers)? Is the data distributed evenly? How could we approach this same problem in a more methodical, scientific way?\n",
    "\n",
    "These are some of the things I want you all to think about between now and next month's event.\n",
    "\n",
    "Thanks a lot!\n"
   ]
  },
  {
   "cell_type": "code",
   "execution_count": null,
   "metadata": {},
   "outputs": [],
   "source": []
  }
 ],
 "metadata": {
  "kernelspec": {
   "display_name": "Python 3",
   "language": "python",
   "name": "python3"
  },
  "language_info": {
   "codemirror_mode": {
    "name": "ipython",
    "version": 3
   },
   "file_extension": ".py",
   "mimetype": "text/x-python",
   "name": "python",
   "nbconvert_exporter": "python",
   "pygments_lexer": "ipython3",
   "version": "3.6.3"
  }
 },
 "nbformat": 4,
 "nbformat_minor": 2
}
