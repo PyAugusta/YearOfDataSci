{
 "cells": [
  {
   "cell_type": "markdown",
   "metadata": {},
   "source": [
    "# Introduction to Neural Networks\n",
    "\n",
    "So far this year, we've been familiarizing ourselves with some of the fundamental Python skills and tools that we'll need to know when we start working on a *Data Science* project. We've covered things like retrieving, formatting, cleaning, and plotting data. \n",
    "\n",
    "While there are many more Python tools to learn about, this month we'll be focusing on learning more about what happens under the hood - this way, we'll have a better understanding of how *Data Science* works and the benefits of leveraging it to find solutions and answers to whatever questions we may have.\n",
    "\n",
    "With that, let's take a look at this thing called a Neural Network."
   ]
  },
  {
   "cell_type": "markdown",
   "metadata": {},
   "source": [
    "## So...What is a Neural Network Anyway?\n",
    "\n",
    "Let's break the term down:\n",
    "\n",
    "- **neu·ral** */ˈn(y)o͝orəl/* - relating to a nerve or nervous system\n",
    "- **net·work** */ˈnetˌwərk/* - an interconnected group or system\n",
    "\n",
    "In the context of Data Science, neural networks then are interconnected systems that learn and make decisions in a way modeled after the human brain. Specifically, these are referred to as **Artificial Neural Networks (ANN)**.\n",
    "\n",
    "Sounds kinda complicated, huh?\n",
    "\n",
    "Well, not really...fundamentally anyway. Think of it as a three part system:\n",
    "\n",
    "1. Input \n",
    "    - In our case, we would take input through our senses (what we see, hear, smell, etc...).\n",
    "    - ANNs on the other hand, get input from data through I/O actions (i.e. reading files).\n",
    "2. Perception\n",
    "    - In both cases (Humans and Computers), this is where the input is processed. Signals are passed between all of the different functons the *brain* is capable of running. Hopefully, we learn from any mistakes that are made.\n",
    "3. Output\n",
    "    - Finally, once a decision has been made, we communicate to the world what we've discovered.\n",
    "    \n",
    "### Us\n",
    "![](images/nn.png)\n",
    "\n",
    "### Computers (us too really)\n",
    "![](images/ann.jpg)"
   ]
  },
  {
   "cell_type": "markdown",
   "metadata": {},
   "source": [
    "As we continue our work this year, we will utilize Machine Learning algorithms and tools that attempt to answer our questions using complex neural networks to extract value from data. This month though, I'd like to take an opportunity to go over some fundamental concepts that make up an ANN. We'll do so by programming our very own (very simple) neural network.\n",
    "\n",
    "Before we introduce our sample problem, let's introduce the *perceptron*.\n",
    "\n",
    "![](images/simple_perceptron.png)"
   ]
  },
  {
   "cell_type": "markdown",
   "metadata": {},
   "source": [
    "## A Sample Problem\n",
    "\n",
    "Our learning exercise today will involve the creation of a simple perceptron that, when given a coordinate (x and y value), will correctly tell us on which side of a line it should go. Specifically, it will label the point as belonging to class **1** (above the line) or the class **-1** (below the line).\n",
    "\n",
    "This particular perceptron will learn how to do its job in a *supervised* fashion, meaning we will train it using data for which we already know the answer.\n",
    "\n",
    "So, using some of the skills we've learned already this year, lets plot our line and generate a training data set."
   ]
  },
  {
   "cell_type": "code",
   "execution_count": 1,
   "metadata": {},
   "outputs": [],
   "source": [
    "import pandas as pd\n",
    "import matplotlib.pyplot as plt\n",
    "import numpy as np\n",
    "\n",
    "%matplotlib inline"
   ]
  },
  {
   "cell_type": "code",
   "execution_count": 2,
   "metadata": {},
   "outputs": [
    {
     "data": {
      "text/html": [
       "<div>\n",
       "<style scoped>\n",
       "    .dataframe tbody tr th:only-of-type {\n",
       "        vertical-align: middle;\n",
       "    }\n",
       "\n",
       "    .dataframe tbody tr th {\n",
       "        vertical-align: top;\n",
       "    }\n",
       "\n",
       "    .dataframe thead th {\n",
       "        text-align: right;\n",
       "    }\n",
       "</style>\n",
       "<table border=\"1\" class=\"dataframe\">\n",
       "  <thead>\n",
       "    <tr style=\"text-align: right;\">\n",
       "      <th></th>\n",
       "      <th>x</th>\n",
       "      <th>y</th>\n",
       "    </tr>\n",
       "  </thead>\n",
       "  <tbody>\n",
       "    <tr>\n",
       "      <th>0</th>\n",
       "      <td>0.314558</td>\n",
       "      <td>0.678146</td>\n",
       "    </tr>\n",
       "    <tr>\n",
       "      <th>1</th>\n",
       "      <td>0.500568</td>\n",
       "      <td>0.093970</td>\n",
       "    </tr>\n",
       "    <tr>\n",
       "      <th>2</th>\n",
       "      <td>0.850454</td>\n",
       "      <td>0.994110</td>\n",
       "    </tr>\n",
       "    <tr>\n",
       "      <th>3</th>\n",
       "      <td>0.970255</td>\n",
       "      <td>0.084406</td>\n",
       "    </tr>\n",
       "    <tr>\n",
       "      <th>4</th>\n",
       "      <td>0.564932</td>\n",
       "      <td>0.923423</td>\n",
       "    </tr>\n",
       "  </tbody>\n",
       "</table>\n",
       "</div>"
      ],
      "text/plain": [
       "          x         y\n",
       "0  0.314558  0.678146\n",
       "1  0.500568  0.093970\n",
       "2  0.850454  0.994110\n",
       "3  0.970255  0.084406\n",
       "4  0.564932  0.923423"
      ]
     },
     "execution_count": 2,
     "metadata": {},
     "output_type": "execute_result"
    }
   ],
   "source": [
    "# Let's start by showing our plot with a line where x = y, and adding 100 random points to it\n",
    "\n",
    "# Create an array of points for our line's x and y values. \n",
    "line = np.linspace(0, 1, 10)\n",
    "\n",
    "# Use np.random.rand to create a 2 arrays with 100 random values in each\n",
    "training_points = np.random.rand(100, 2)\n",
    "# And create a DataFrame out of it\n",
    "training_df = pd.DataFrame(training_points, columns=['x', 'y'])\n",
    "\n",
    "# And take a look at our training points\n",
    "training_df.head()"
   ]
  },
  {
   "cell_type": "code",
   "execution_count": 3,
   "metadata": {},
   "outputs": [
    {
     "data": {
      "text/html": [
       "<div>\n",
       "<style scoped>\n",
       "    .dataframe tbody tr th:only-of-type {\n",
       "        vertical-align: middle;\n",
       "    }\n",
       "\n",
       "    .dataframe tbody tr th {\n",
       "        vertical-align: top;\n",
       "    }\n",
       "\n",
       "    .dataframe thead th {\n",
       "        text-align: right;\n",
       "    }\n",
       "</style>\n",
       "<table border=\"1\" class=\"dataframe\">\n",
       "  <thead>\n",
       "    <tr style=\"text-align: right;\">\n",
       "      <th></th>\n",
       "      <th>x</th>\n",
       "      <th>y</th>\n",
       "      <th>label</th>\n",
       "    </tr>\n",
       "  </thead>\n",
       "  <tbody>\n",
       "    <tr>\n",
       "      <th>0</th>\n",
       "      <td>0.314558</td>\n",
       "      <td>0.678146</td>\n",
       "      <td>1</td>\n",
       "    </tr>\n",
       "    <tr>\n",
       "      <th>1</th>\n",
       "      <td>0.500568</td>\n",
       "      <td>0.093970</td>\n",
       "      <td>-1</td>\n",
       "    </tr>\n",
       "    <tr>\n",
       "      <th>2</th>\n",
       "      <td>0.850454</td>\n",
       "      <td>0.994110</td>\n",
       "      <td>1</td>\n",
       "    </tr>\n",
       "    <tr>\n",
       "      <th>3</th>\n",
       "      <td>0.970255</td>\n",
       "      <td>0.084406</td>\n",
       "      <td>-1</td>\n",
       "    </tr>\n",
       "    <tr>\n",
       "      <th>4</th>\n",
       "      <td>0.564932</td>\n",
       "      <td>0.923423</td>\n",
       "      <td>1</td>\n",
       "    </tr>\n",
       "    <tr>\n",
       "      <th>5</th>\n",
       "      <td>0.087146</td>\n",
       "      <td>0.224102</td>\n",
       "      <td>1</td>\n",
       "    </tr>\n",
       "    <tr>\n",
       "      <th>6</th>\n",
       "      <td>0.773694</td>\n",
       "      <td>0.111902</td>\n",
       "      <td>-1</td>\n",
       "    </tr>\n",
       "    <tr>\n",
       "      <th>7</th>\n",
       "      <td>0.947710</td>\n",
       "      <td>0.924870</td>\n",
       "      <td>-1</td>\n",
       "    </tr>\n",
       "    <tr>\n",
       "      <th>8</th>\n",
       "      <td>0.319663</td>\n",
       "      <td>0.148516</td>\n",
       "      <td>-1</td>\n",
       "    </tr>\n",
       "    <tr>\n",
       "      <th>9</th>\n",
       "      <td>0.499985</td>\n",
       "      <td>0.171855</td>\n",
       "      <td>-1</td>\n",
       "    </tr>\n",
       "  </tbody>\n",
       "</table>\n",
       "</div>"
      ],
      "text/plain": [
       "          x         y  label\n",
       "0  0.314558  0.678146      1\n",
       "1  0.500568  0.093970     -1\n",
       "2  0.850454  0.994110      1\n",
       "3  0.970255  0.084406     -1\n",
       "4  0.564932  0.923423      1\n",
       "5  0.087146  0.224102      1\n",
       "6  0.773694  0.111902     -1\n",
       "7  0.947710  0.924870     -1\n",
       "8  0.319663  0.148516     -1\n",
       "9  0.499985  0.171855     -1"
      ]
     },
     "execution_count": 3,
     "metadata": {},
     "output_type": "execute_result"
    }
   ],
   "source": [
    "# Since we're using supervised learning, let's add a label \n",
    "# to tell us which side of the line the point is on.\n",
    "# Since our line is so simple, we can figure this out by\n",
    "# comparing the x and y values.\n",
    "def which_class(x, y):\n",
    "    if x > y:\n",
    "        return -1 #below\n",
    "    else:\n",
    "        return 1 #above\n",
    "\n",
    "training_df['label'] = training_df.apply(lambda row: which_class(row['x'], row['y']), axis=1)\n",
    "training_df.head(10)"
   ]
  },
  {
   "cell_type": "code",
   "execution_count": 4,
   "metadata": {},
   "outputs": [
    {
     "data": {
      "image/png": "[encoded data removed]",
      "text/plain": [
       "<matplotlib.figure.Figure at 0x177133756a0>"
      ]
     },
     "metadata": {},
     "output_type": "display_data"
    }
   ],
   "source": [
    "# Let's go ahead an plot everything\n",
    "plt.plot(line, line)\n",
    "plt.scatter(training_df['x'], training_df['y'], c=training_df['label'])\n",
    "plt.show()"
   ]
  },
  {
   "cell_type": "markdown",
   "metadata": {},
   "source": [
    "## Back to the fun stuff\n",
    "\n",
    "Ok, now that we have our training data set up, let's talk about our *perceptron* some more.\n",
    "\n",
    "Here are the key things it must do:\n",
    "\n",
    "### 1. Initialize Some Weights and a *Learning Rate*\n",
    "\n",
    "Remember, an important part of the process are the weights - these are what we tweek and adjust until we find an optimal setting. This really is where the *learning* happens.\n",
    "\n",
    "For this simple example, we'll really only need two weights - one for the x values and one for the y values. But, what should those values be at the begining? Well, that's a discussion for another time - in fact, the process for deciding that is a field of machine learning all by itself. For now, we'll just use random values.\n",
    "\n",
    "We can accomplish this easily using:\n",
    "\n",
    "```python\n",
    ">>> np.random.randn(2)\n",
    "array([-0.16032296,  1.07890003])\n",
    "```\n",
    "\n",
    "The *learning rate* is a value that we'll use to throttle how much to adjust weights later on. Typically, it's a small number, like 0.1.\n",
    "\n",
    "\n",
    "### 2. *Train* Our Perceptron\n",
    "\n",
    "This is a multi-step process that we'll do in an iterative fashion. The goal here is to run some calculation that will guess whether a point belongs to the 1 class or -1 class. Depending on the answer, we'll make adjustment to the weights.\n",
    "\n",
    "**Step 1.** Apply the existing weights to the points. This is as easy as multiplying each coordinate by its corresponding weight. For example, if we had a point equal to ```(0.2, 0.4)``` and weights equal to ```(0.1, 0.5)```, our weighted points would be ```(0.02, 0.2)```.\n",
    "\n",
    "**Step 2.** Run some calculation on the weighted points that will return a single value. In our example, we'll simply determine a *weighted sum*, meaning we'll simply add up all the weighted point values.\n",
    "\n",
    "**Step 3.** Normalize (activate) the result of the weighted sum so that it answers our question - does the point belong to class 1 or -1? Again, we'll use a simple test: If the value is greater than 0, we'll get 1, and if it's less than or equal to zero, we'll get -1.\n",
    "\n",
    "**Step 4.** Evaluate the normalized result. If it's right, great! But if it's wrong, we'll need to adjust our weights slightly. To achieve this, we'll determine an error. This will be as simple as finding the difference between the expected answer and what the normalized guess was. Using that difference, we'll determine how much to adjust the weights using the following formula:\n",
    "\n",
    "    weight + error * original_value * learning_rate\n",
    "    \n",
    "This is where that learning rate is so important. Essentially, it keeps us from over shooting the desired answer by ensuring that corrections aren't made to drastically. Without it (using this algorithm), we probably would never get a good answer.\n",
    "\n",
    "**Step 5.** Finally, we simply replace the old weight with the new one calculated from the previous step. Once we've done that, we can move on to the next point.\n",
    "\n",
    "### 3. Test Our Model\n",
    "\n",
    "After we've trained the Perceptron, we'll create a new set of data the exact same way we made the training data. For demonstration purposes, we'll guess the answer before training, and plot the results - you should see how incorrect the perceptron we'll be initially.\n",
    "\n",
    "Then, we'll train our perceptron using the training data. Remember, we know those answer are correct because we classified them ourselves.\n",
    "\n",
    "Finally, we'll run our test data through again, this time against the trained perceptron, and see if any of the answers have changed.\n",
    "\n",
    "So, let's start coding!"
   ]
  },
  {
   "cell_type": "code",
   "execution_count": 5,
   "metadata": {},
   "outputs": [],
   "source": [
    "# Our perceptron\n",
    "class Perceptron:\n",
    "    \n",
    "    def __init__(self, num_factors, learning_rate=0.1):\n",
    "        '''\n",
    "        Initialize the Perceptron with a weights array of length num_factors.\n",
    "        '''\n",
    "        self.weights = np.random.randn(num_factors)\n",
    "        self.learning_rate = learning_rate\n",
    "        \n",
    "    def apply_weight(self, value, weight):\n",
    "        '''\n",
    "        Multipy value * weight\n",
    "        '''\n",
    "        return value*weight\n",
    "    \n",
    "    def activate(self, value):\n",
    "        '''\n",
    "        Normalizes a value by simply returning 1 if > 0 and -1 if <= 0\n",
    "        '''\n",
    "        if value > 0:\n",
    "            return 1\n",
    "        return -1\n",
    "    \n",
    "    def guess(self, inputs):\n",
    "        '''\n",
    "        Computes the weighted sum of the inputs, and returns the activated result.\n",
    "        '''\n",
    "        sum = 0\n",
    "        for idx in range(len(self.weights)):\n",
    "            sum += self.apply_weight(inputs[idx], self.weights[idx])\n",
    "        return self.activate(sum)\n",
    "    \n",
    "    def error(self, guess, answer): \n",
    "        '''\n",
    "        Calculate the difference (error) between the answer and guess.\n",
    "        '''\n",
    "        return answer-guess\n",
    "    \n",
    "    def adjustment(self, error, value):\n",
    "        '''\n",
    "        Returns an amount to adjust by multiplying the error, value, and learning rate.\n",
    "        '''\n",
    "        return error*value*self.learning_rate\n",
    "    \n",
    "    def train(self, point, answer):\n",
    "        '''\n",
    "        Takes a point input in the format (x, y), as well as an expected answer. Calculates the\n",
    "        error, and adjusts the weights in an attempt to correct until a correct guess is made.\n",
    "        '''\n",
    "        guess = self.guess(point)\n",
    "        while guess != answer:\n",
    "            error = self.error(guess, answer)\n",
    "            for idx in range(len(self.weights)):\n",
    "                self.weights[idx] += self.adjustment(error, point[idx])\n",
    "            guess = self.guess(point)\n"
   ]
  },
  {
   "cell_type": "markdown",
   "metadata": {},
   "source": [
    "## Voila!\n",
    "\n",
    "It's a simple as that...well this is a very simplified example. Let's test how it works."
   ]
  },
  {
   "cell_type": "code",
   "execution_count": 6,
   "metadata": {},
   "outputs": [],
   "source": [
    "# Initialize our untrained perceptron. Use 2 because each point contains two values (x, y)\n",
    "model = Perceptron(2)"
   ]
  },
  {
   "cell_type": "code",
   "execution_count": 7,
   "metadata": {},
   "outputs": [
    {
     "data": {
      "text/html": [
       "<div>\n",
       "<style scoped>\n",
       "    .dataframe tbody tr th:only-of-type {\n",
       "        vertical-align: middle;\n",
       "    }\n",
       "\n",
       "    .dataframe tbody tr th {\n",
       "        vertical-align: top;\n",
       "    }\n",
       "\n",
       "    .dataframe thead th {\n",
       "        text-align: right;\n",
       "    }\n",
       "</style>\n",
       "<table border=\"1\" class=\"dataframe\">\n",
       "  <thead>\n",
       "    <tr style=\"text-align: right;\">\n",
       "      <th></th>\n",
       "      <th>x</th>\n",
       "      <th>y</th>\n",
       "    </tr>\n",
       "  </thead>\n",
       "  <tbody>\n",
       "    <tr>\n",
       "      <th>0</th>\n",
       "      <td>0.130080</td>\n",
       "      <td>0.986884</td>\n",
       "    </tr>\n",
       "    <tr>\n",
       "      <th>1</th>\n",
       "      <td>0.269862</td>\n",
       "      <td>0.101407</td>\n",
       "    </tr>\n",
       "    <tr>\n",
       "      <th>2</th>\n",
       "      <td>0.893311</td>\n",
       "      <td>0.702005</td>\n",
       "    </tr>\n",
       "    <tr>\n",
       "      <th>3</th>\n",
       "      <td>0.464741</td>\n",
       "      <td>0.407843</td>\n",
       "    </tr>\n",
       "    <tr>\n",
       "      <th>4</th>\n",
       "      <td>0.567394</td>\n",
       "      <td>0.196523</td>\n",
       "    </tr>\n",
       "  </tbody>\n",
       "</table>\n",
       "</div>"
      ],
      "text/plain": [
       "          x         y\n",
       "0  0.130080  0.986884\n",
       "1  0.269862  0.101407\n",
       "2  0.893311  0.702005\n",
       "3  0.464741  0.407843\n",
       "4  0.567394  0.196523"
      ]
     },
     "execution_count": 7,
     "metadata": {},
     "output_type": "execute_result"
    }
   ],
   "source": [
    "# Let's create some test data using the same method we used to make the training data\n",
    "test_points = np.random.rand(100, 2)\n",
    "test_df = pd.DataFrame(test_points, columns=['x', 'y'])\n",
    "test_df.head()"
   ]
  },
  {
   "cell_type": "code",
   "execution_count": 8,
   "metadata": {},
   "outputs": [
    {
     "data": {
      "text/html": [
       "<div>\n",
       "<style scoped>\n",
       "    .dataframe tbody tr th:only-of-type {\n",
       "        vertical-align: middle;\n",
       "    }\n",
       "\n",
       "    .dataframe tbody tr th {\n",
       "        vertical-align: top;\n",
       "    }\n",
       "\n",
       "    .dataframe thead th {\n",
       "        text-align: right;\n",
       "    }\n",
       "</style>\n",
       "<table border=\"1\" class=\"dataframe\">\n",
       "  <thead>\n",
       "    <tr style=\"text-align: right;\">\n",
       "      <th></th>\n",
       "      <th>x</th>\n",
       "      <th>y</th>\n",
       "      <th>label</th>\n",
       "    </tr>\n",
       "  </thead>\n",
       "  <tbody>\n",
       "    <tr>\n",
       "      <th>0</th>\n",
       "      <td>0.130080</td>\n",
       "      <td>0.986884</td>\n",
       "      <td>1</td>\n",
       "    </tr>\n",
       "    <tr>\n",
       "      <th>1</th>\n",
       "      <td>0.269862</td>\n",
       "      <td>0.101407</td>\n",
       "      <td>1</td>\n",
       "    </tr>\n",
       "    <tr>\n",
       "      <th>2</th>\n",
       "      <td>0.893311</td>\n",
       "      <td>0.702005</td>\n",
       "      <td>1</td>\n",
       "    </tr>\n",
       "    <tr>\n",
       "      <th>3</th>\n",
       "      <td>0.464741</td>\n",
       "      <td>0.407843</td>\n",
       "      <td>1</td>\n",
       "    </tr>\n",
       "    <tr>\n",
       "      <th>4</th>\n",
       "      <td>0.567394</td>\n",
       "      <td>0.196523</td>\n",
       "      <td>1</td>\n",
       "    </tr>\n",
       "    <tr>\n",
       "      <th>5</th>\n",
       "      <td>0.013054</td>\n",
       "      <td>0.082755</td>\n",
       "      <td>1</td>\n",
       "    </tr>\n",
       "    <tr>\n",
       "      <th>6</th>\n",
       "      <td>0.139383</td>\n",
       "      <td>0.156197</td>\n",
       "      <td>1</td>\n",
       "    </tr>\n",
       "    <tr>\n",
       "      <th>7</th>\n",
       "      <td>0.870592</td>\n",
       "      <td>0.657402</td>\n",
       "      <td>1</td>\n",
       "    </tr>\n",
       "    <tr>\n",
       "      <th>8</th>\n",
       "      <td>0.087401</td>\n",
       "      <td>0.436818</td>\n",
       "      <td>1</td>\n",
       "    </tr>\n",
       "    <tr>\n",
       "      <th>9</th>\n",
       "      <td>0.202939</td>\n",
       "      <td>0.214609</td>\n",
       "      <td>1</td>\n",
       "    </tr>\n",
       "  </tbody>\n",
       "</table>\n",
       "</div>"
      ],
      "text/plain": [
       "          x         y  label\n",
       "0  0.130080  0.986884      1\n",
       "1  0.269862  0.101407      1\n",
       "2  0.893311  0.702005      1\n",
       "3  0.464741  0.407843      1\n",
       "4  0.567394  0.196523      1\n",
       "5  0.013054  0.082755      1\n",
       "6  0.139383  0.156197      1\n",
       "7  0.870592  0.657402      1\n",
       "8  0.087401  0.436818      1\n",
       "9  0.202939  0.214609      1"
      ]
     },
     "execution_count": 8,
     "metadata": {},
     "output_type": "execute_result"
    }
   ],
   "source": [
    "# Last time, we used the which_class function to manually insert the correct labels.\n",
    "# This time (mainly as a demonstration), we'll use our untrained model to guess\n",
    "# what it should be.\n",
    "def predict_class(model, x, y):\n",
    "    prediction = model.guess((x, y))\n",
    "    return prediction\n",
    "\n",
    "test_df['label'] = test_df.apply(lambda row: predict_class(model, row['x'], row['y']), axis=1)\n",
    "test_df.head(10)"
   ]
  },
  {
   "cell_type": "code",
   "execution_count": 9,
   "metadata": {},
   "outputs": [
    {
     "data": {
      "image/png": "[encoded data removed]",
      "text/plain": [
       "<matplotlib.figure.Figure at 0x177153bf390>"
      ]
     },
     "metadata": {},
     "output_type": "display_data"
    },
    {
     "data": {
      "text/plain": [
       "array([1.52573206, 0.0971419 ])"
      ]
     },
     "execution_count": 9,
     "metadata": {},
     "output_type": "execute_result"
    }
   ],
   "source": [
    "# And we'll plot our untrained guesses\n",
    "plt.plot(line, line)\n",
    "plt.scatter(test_df['x'], test_df['y'], c=test_df['label'])\n",
    "plt.show()\n",
    "\n",
    "# The weights have yet to be adjusted\n",
    "model.weights"
   ]
  },
  {
   "cell_type": "code",
   "execution_count": 10,
   "metadata": {},
   "outputs": [
    {
     "data": {
      "text/plain": [
       "array([-0.31382105,  0.3213698 ])"
      ]
     },
     "execution_count": 10,
     "metadata": {},
     "output_type": "execute_result"
    }
   ],
   "source": [
    "# Now, let's train the model. We'll do iteratively, running the train method once per row of our training data\n",
    "for idx in training_df.index:\n",
    "    row = training_df.iloc[idx]\n",
    "    x, y, label = row['x'], row['y'], row['label']\n",
    "    model.train((x, y), label)\n",
    "    \n",
    "# What are the weights now?\n",
    "model.weights"
   ]
  },
  {
   "cell_type": "code",
   "execution_count": 11,
   "metadata": {},
   "outputs": [
    {
     "data": {
      "image/png": "[encoded data removed]",
      "text/plain": [
       "<matplotlib.figure.Figure at 0x177153bf240>"
      ]
     },
     "metadata": {},
     "output_type": "display_data"
    }
   ],
   "source": [
    "# Finally, let's see if our trained model can make better guesses\n",
    "test_df['label'] = test_df.apply(lambda row: predict_class(model, row['x'], row['y']), axis=1)\n",
    "\n",
    "plt.plot(line, line)\n",
    "plt.scatter(test_df['x'], test_df['y'], c=test_df['label'])\n",
    "plt.show()"
   ]
  },
  {
   "cell_type": "markdown",
   "metadata": {},
   "source": [
    "## And There You Go\n",
    "\n",
    "We've just succesfully created our very own artificial neural network, albeit a simple one.\n",
    "\n",
    "What are some problems that you can point out with the perceptron? How might we fix them? Next time, we'll dive a little deeper into neural networks and hopefully we'll start using some that have been created by the pros.\n",
    "\n",
    "Thanks alot, see ya next month."
   ]
  }
 ],
 "metadata": {
  "kernelspec": {
   "display_name": "Python 3",
   "language": "python",
   "name": "python3"
  },
  "language_info": {
   "codemirror_mode": {
    "name": "ipython",
    "version": 3
   },
   "file_extension": ".py",
   "mimetype": "text/x-python",
   "name": "python",
   "nbconvert_exporter": "python",
   "pygments_lexer": "ipython3",
   "version": "3.6.3"
  }
 },
 "nbformat": 4,
 "nbformat_minor": 2
}
